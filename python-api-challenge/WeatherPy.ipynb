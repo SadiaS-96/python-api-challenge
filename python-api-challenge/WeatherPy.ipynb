{
 "cells": [
  {
   "cell_type": "markdown",
   "metadata": {},
   "source": [
    "# WeatherPy\n",
    "----\n",
    "\n",
    "#### Note\n",
    "* Instructions have been included for each segment. You do not have to follow them exactly, but they are included to help you think through the steps."
   ]
  },
  {
   "cell_type": "code",
   "execution_count": 11,
   "metadata": {
    "scrolled": true
   },
   "outputs": [],
   "source": [
    "# Dependencies and Setup\n",
    "import matplotlib.pyplot as plt\n",
    "import pandas as pd\n",
    "import numpy as np\n",
    "import requests\n",
    "import time\n",
    "from scipy.stats import linregress\n",
    "\n",
    "# Import API key\n",
    "from api_keys import weather_api_key\n",
    "\n",
    "# Incorporated citipy to determine city based on latitude and longitude\n",
    "from citipy import citipy\n",
    "\n",
    "# Output File (CSV)\n",
    "output_data_file = \"output_data/cities.csv\"\n",
    "\n",
    "# Range of latitudes and longitudes\n",
    "lat_range = (-90, 90)\n",
    "lng_range = (-180, 180)"
   ]
  },
  {
   "cell_type": "markdown",
   "metadata": {},
   "source": [
    "## Generate Cities List"
   ]
  },
  {
   "cell_type": "code",
   "execution_count": 12,
   "metadata": {},
   "outputs": [
    {
     "data": {
      "text/plain": [
       "626"
      ]
     },
     "execution_count": 12,
     "metadata": {},
     "output_type": "execute_result"
    }
   ],
   "source": [
    "# List for holding lat_lngs and cities\n",
    "lat_lngs = []\n",
    "cities = []\n",
    "\n",
    "# Create a set of random lat and lng combinations\n",
    "lats = np.random.uniform(low=-90.000, high=90.000, size=1500)\n",
    "lngs = np.random.uniform(low=-180.000, high=180.000, size=1500)\n",
    "lat_lngs = zip(lats, lngs)\n",
    "\n",
    "# Identify nearest city for each lat, lng combination\n",
    "for lat_lng in lat_lngs:\n",
    "    city = citipy.nearest_city(lat_lng[0], lat_lng[1]).city_name\n",
    "    \n",
    "    # If the city is unique, then add it to a our cities list\n",
    "    if city not in cities:\n",
    "        cities.append(city)\n",
    "\n",
    "# Print the city count to confirm sufficient count\n",
    "len(cities)"
   ]
  },
  {
   "cell_type": "markdown",
   "metadata": {},
   "source": [
    "### Perform API Calls\n",
    "* Perform a weather check on each city using a series of successive API calls.\n",
    "* Include a print log of each city as it'sbeing processed (with the city number and city name).\n"
   ]
  },
  {
   "cell_type": "code",
   "execution_count": 13,
   "metadata": {},
   "outputs": [],
   "source": [
    "new_cities = []\n",
    "cloudiness = []\n",
    "country = []\n",
    "date = []\n",
    "humidity = []\n",
    "temp = []\n",
    "lat = []\n",
    "lng = []\n",
    "wind = []"
   ]
  },
  {
   "cell_type": "code",
   "execution_count": null,
   "metadata": {},
   "outputs": [
    {
     "name": "stdout",
     "output_type": "stream",
     "text": [
      "Weather Data: \n",
      "------------------------\n",
      "{'coord': {'lon': 78.12, 'lat': 8.48}, 'weather': [{'id': 721, 'main': 'Haze', 'description': 'haze', 'icon': '50n'}], 'base': 'stations', 'main': {'temp': 296.15, 'feels_like': 298.4, 'temp_min': 296.15, 'temp_max': 296.15, 'pressure': 1013, 'humidity': 94}, 'visibility': 5000, 'wind': {'speed': 3.48, 'deg': 356}, 'clouds': {'all': 20}, 'dt': 1580428476, 'sys': {'type': 1, 'id': 9252, 'country': 'IN', 'sunrise': 1580432884, 'sunset': 1580475207}, 'timezone': 19800, 'id': 1254390, 'name': 'Tiruchchendur', 'cod': 200}\n",
      "{'coord': {'lon': 60.64, 'lat': 25.29}, 'weather': [{'id': 800, 'main': 'Clear', 'description': 'clear sky', 'icon': '01n'}], 'base': 'model', 'main': {'temp': 290.44, 'feels_like': 288.81, 'temp_min': 290.44, 'temp_max': 290.44, 'pressure': 1017, 'humidity': 65, 'sea_level': 1017, 'grnd_level': 1011}, 'wind': {'speed': 2.65, 'deg': 350}, 'clouds': {'all': 0}, 'dt': 1580428476, 'sys': {'country': 'IR', 'sunrise': 1580438473, 'sunset': 1580478009}, 'timezone': 12600, 'id': 1161724, 'name': 'Chabahar', 'cod': 200}\n",
      "{'coord': {'lon': -28.7, 'lat': 38.52}, 'weather': [{'id': 501, 'main': 'Rain', 'description': 'moderate rain', 'icon': '10n'}], 'base': 'model', 'main': {'temp': 288.36, 'feels_like': 281.72, 'temp_min': 288.36, 'temp_max': 288.36, 'pressure': 1012, 'humidity': 91, 'sea_level': 1012, 'grnd_level': 989}, 'wind': {'speed': 11.17, 'deg': 219}, 'rain': {'3h': 3.25}, 'clouds': {'all': 93}, 'dt': 1580428487, 'sys': {'country': 'PT', 'sunrise': 1580374949, 'sunset': 1580411601}, 'timezone': -3600, 'id': 3372707, 'name': 'Ribeira Grande', 'cod': 200}\n",
      "{'coord': {'lon': -121.92, 'lat': 36.62}, 'weather': [{'id': 804, 'main': 'Clouds', 'description': 'overcast clouds', 'icon': '04d'}], 'base': 'stations', 'main': {'temp': 288.2, 'feels_like': 287.28, 'temp_min': 285.93, 'temp_max': 290.15, 'pressure': 1023, 'humidity': 87}, 'visibility': 12874, 'wind': {'speed': 2.6, 'deg': 120}, 'clouds': {'all': 90}, 'dt': 1580428493, 'sys': {'type': 1, 'id': 4980, 'country': 'US', 'sunrise': 1580397078, 'sunset': 1580434223}, 'timezone': -28800, 'id': 5380437, 'name': 'Pacific Grove', 'cod': 200}\n",
      "{'coord': {'lon': -158.01, 'lat': 21.32}, 'weather': [{'id': 800, 'main': 'Clear', 'description': 'clear sky', 'icon': '01d'}], 'base': 'stations', 'main': {'temp': 299.8, 'feels_like': 299.48, 'temp_min': 298.15, 'temp_max': 301.15, 'pressure': 1018, 'humidity': 54}, 'visibility': 16093, 'wind': {'speed': 3.6, 'deg': 150}, 'clouds': {'all': 1}, 'dt': 1580428494, 'sys': {'type': 1, 'id': 7868, 'country': 'US', 'sunrise': 1580404203, 'sunset': 1580444424}, 'timezone': -36000, 'id': 5855051, 'name': \"'Ewa Beach\", 'cod': 200}\n",
      "{'coord': {'lon': 36.2, 'lat': 16.15}, 'weather': [{'id': 801, 'main': 'Clouds', 'description': 'few clouds', 'icon': '02n'}], 'base': 'model', 'main': {'temp': 290.76, 'feels_like': 289.04, 'temp_min': 290.76, 'temp_max': 290.76, 'pressure': 1013, 'humidity': 76, 'sea_level': 1013, 'grnd_level': 964}, 'wind': {'speed': 3.94, 'deg': 29}, 'clouds': {'all': 16}, 'dt': 1580428494, 'sys': {'country': 'SD', 'sunrise': 1580443551, 'sunset': 1580484664}, 'timezone': 7200, 'id': 364027, 'name': 'Wagar', 'cod': 200}\n",
      "{'coord': {'lon': 135.88, 'lat': 46.49}, 'weather': [{'id': 804, 'main': 'Clouds', 'description': 'overcast clouds', 'icon': '04d'}], 'base': 'model', 'main': {'temp': 257.21, 'feels_like': 253.18, 'temp_min': 257.21, 'temp_max': 257.21, 'pressure': 1020, 'humidity': 95, 'sea_level': 1020, 'grnd_level': 937}, 'wind': {'speed': 0.83, 'deg': 308}, 'clouds': {'all': 100}, 'dt': 1580428495, 'sys': {'country': 'RU', 'sunrise': 1580422955, 'sunset': 1580457407}, 'timezone': 36000, 'id': 2013279, 'name': 'Vostok', 'cod': 200}\n",
      "{'coord': {'lon': -79.24, 'lat': 42.1}, 'weather': [{'id': 804, 'main': 'Clouds', 'description': 'overcast clouds', 'icon': '04n'}], 'base': 'stations', 'main': {'temp': 271.53, 'feels_like': 267.19, 'temp_min': 270.37, 'temp_max': 272.15, 'pressure': 1021, 'humidity': 63}, 'visibility': 16093, 'wind': {'speed': 2.1, 'deg': 350}, 'clouds': {'all': 90}, 'dt': 1580428322, 'sys': {'type': 1, 'id': 4588, 'country': 'US', 'sunrise': 1580387546, 'sunset': 1580423266}, 'timezone': -18000, 'id': 5122534, 'name': 'Jamestown', 'cod': 200}\n",
      "{'coord': {'lon': 173.78, 'lat': -35.1}, 'weather': [{'id': 800, 'main': 'Clear', 'description': 'clear sky', 'icon': '01d'}], 'base': 'stations', 'main': {'temp': 303.46, 'feels_like': 308.24, 'temp_min': 299.26, 'temp_max': 305.37, 'pressure': 1020, 'humidity': 64}, 'wind': {'speed': 0.45, 'deg': 189, 'gust': 1.34}, 'clouds': {'all': 0}, 'dt': 1580428515, 'sys': {'type': 3, 'id': 2016422, 'country': 'NZ', 'sunrise': 1580406118, 'sunset': 1580456051}, 'timezone': 46800, 'id': 2189343, 'name': 'Kaeo', 'cod': 200}\n",
      "{'coord': {'lon': 12.69, 'lat': 67.67}, 'weather': [{'id': 804, 'main': 'Clouds', 'description': 'overcast clouds', 'icon': '04n'}], 'base': 'model', 'main': {'temp': 274.63, 'feels_like': 267.08, 'temp_min': 274.63, 'temp_max': 274.63, 'pressure': 992, 'humidity': 70, 'sea_level': 992, 'grnd_level': 990}, 'wind': {'speed': 7.32, 'deg': 116}, 'clouds': {'all': 92}, 'dt': 1580428516, 'sys': {'country': 'NO', 'sunrise': 1580459393, 'sunset': 1580480108}, 'timezone': 3600, 'id': 3137469, 'name': 'Sorland', 'cod': 200}\n",
      "{'coord': {'lon': -1.64, 'lat': 49.63}, 'weather': [{'id': 701, 'main': 'Mist', 'description': 'mist', 'icon': '50n'}], 'base': 'stations', 'main': {'temp': 282.62, 'feels_like': 277.13, 'temp_min': 282.15, 'temp_max': 283.71, 'pressure': 1010, 'humidity': 100}, 'visibility': 1200, 'wind': {'speed': 7.7, 'deg': 250}, 'clouds': {'all': 100}, 'dt': 1580428516, 'sys': {'type': 1, 'id': 6558, 'country': 'FR', 'sunrise': 1580456478, 'sunset': 1580489902}, 'timezone': 3600, 'id': 2989755, 'name': 'Octeville', 'cod': 200}\n",
      "{'coord': {'lon': -68.3, 'lat': -54.8}, 'weather': [{'id': 521, 'main': 'Rain', 'description': 'shower rain', 'icon': '09d'}], 'base': 'stations', 'main': {'temp': 282.15, 'feels_like': 269.89, 'temp_min': 282.15, 'temp_max': 282.15, 'pressure': 990, 'humidity': 76}, 'visibility': 10000, 'wind': {'speed': 15.9, 'deg': 230, 'gust': 21.1}, 'clouds': {'all': 75}, 'dt': 1580428516, 'sys': {'type': 1, 'id': 8303, 'country': 'AR', 'sunrise': 1580374292, 'sunset': 1580431268}, 'timezone': -10800, 'id': 3833367, 'name': 'Ushuaia', 'cod': 200}\n",
      "{'coord': {'lon': 172.79, 'lat': 3.07}, 'weather': [{'id': 803, 'main': 'Clouds', 'description': 'broken clouds', 'icon': '04d'}], 'base': 'model', 'main': {'temp': 302.51, 'feels_like': 304.59, 'temp_min': 302.51, 'temp_max': 302.51, 'pressure': 1010, 'humidity': 77, 'sea_level': 1010, 'grnd_level': 1010}, 'wind': {'speed': 6.11, 'deg': 91}, 'clouds': {'all': 53}, 'dt': 1580428518, 'sys': {'country': 'KI', 'sunrise': 1580409747, 'sunset': 1580452896}, 'timezone': 43200, 'id': 2110227, 'name': 'Butaritari', 'cod': 200}\n",
      "{'coord': {'lon': -17.1, 'lat': 32.67}, 'weather': [{'id': 801, 'main': 'Clouds', 'description': 'few clouds', 'icon': '02n'}], 'base': 'stations', 'main': {'temp': 288.16, 'feels_like': 288, 'temp_min': 287.59, 'temp_max': 289.26, 'pressure': 1027, 'humidity': 87}, 'visibility': 10000, 'wind': {'speed': 1.5, 'deg': 280}, 'clouds': {'all': 20}, 'dt': 1580428554, 'sys': {'type': 1, 'id': 6894, 'country': 'PT', 'sunrise': 1580371487, 'sunset': 1580409494}, 'timezone': 0, 'id': 2264557, 'name': 'Ponta do Sol', 'cod': 200}\n",
      "{'coord': {'lon': -73.65, 'lat': -37.62}, 'weather': [{'id': 800, 'main': 'Clear', 'description': 'clear sky', 'icon': '01d'}], 'base': 'model', 'main': {'temp': 288.36, 'feels_like': 285.07, 'temp_min': 288.36, 'temp_max': 288.36, 'pressure': 1016, 'humidity': 66, 'sea_level': 1016, 'grnd_level': 999}, 'wind': {'speed': 4.35, 'deg': 190}, 'clouds': {'all': 0}, 'dt': 1580428555, 'sys': {'country': 'CL', 'sunrise': 1580378764, 'sunset': 1580429365}, 'timezone': -10800, 'id': 3883457, 'name': 'Lebu', 'cod': 200}\n",
      "{'coord': {'lon': 102.5, 'lat': 71.97}, 'weather': [{'id': 804, 'main': 'Clouds', 'description': 'overcast clouds', 'icon': '04n'}], 'base': 'model', 'main': {'temp': 243.91, 'feels_like': 237.91, 'temp_min': 243.91, 'temp_max': 243.91, 'pressure': 1022, 'humidity': 97, 'sea_level': 1022, 'grnd_level': 1019}, 'wind': {'speed': 3.11, 'deg': 237}, 'clouds': {'all': 96}, 'dt': 1580428557, 'sys': {'country': 'RU', 'sunrise': 1580442867, 'sunset': 1580453520}, 'timezone': 25200, 'id': 2022572, 'name': 'Khatanga', 'cod': 200}\n",
      "{'coord': {'lon': -155.09, 'lat': 19.73}, 'weather': [{'id': 500, 'main': 'Rain', 'description': 'light rain', 'icon': '10d'}], 'base': 'stations', 'main': {'temp': 296.95, 'feels_like': 294.43, 'temp_min': 293.71, 'temp_max': 298.15, 'pressure': 1018, 'humidity': 78}, 'visibility': 8047, 'wind': {'speed': 8.7, 'deg': 120}, 'rain': {'1h': 0.51}, 'clouds': {'all': 90}, 'dt': 1580428277, 'sys': {'type': 1, 'id': 7881, 'country': 'US', 'sunrise': 1580403365, 'sunset': 1580443860}, 'timezone': -36000, 'id': 5855927, 'name': 'Hilo', 'cod': 200}\n"
     ]
    },
    {
     "name": "stdout",
     "output_type": "stream",
     "text": [
      "{'coord': {'lon': 39.51, 'lat': 68.05}, 'weather': [{'id': 800, 'main': 'Clear', 'description': 'clear sky', 'icon': '01n'}], 'base': 'model', 'main': {'temp': 253.48, 'feels_like': 246.14, 'temp_min': 253.48, 'temp_max': 253.48, 'pressure': 1022, 'humidity': 98, 'sea_level': 1022, 'grnd_level': 1003}, 'wind': {'speed': 5.36, 'deg': 159}, 'clouds': {'all': 2}, 'dt': 1580428557, 'sys': {'country': 'RU', 'sunrise': 1580453262, 'sunset': 1580473364}, 'timezone': 10800, 'id': 556268, 'name': 'Ostrovnoy', 'cod': 200}\n",
      "{'coord': {'lon': 15.16, 'lat': -26.65}, 'weather': [{'id': 800, 'main': 'Clear', 'description': 'clear sky', 'icon': '01n'}], 'base': 'model', 'main': {'temp': 290.42, 'feels_like': 288.33, 'temp_min': 290.42, 'temp_max': 290.42, 'pressure': 1014, 'humidity': 93, 'sea_level': 1014, 'grnd_level': 1013}, 'wind': {'speed': 5.89, 'deg': 170}, 'clouds': {'all': 0}, 'dt': 1580428577, 'sys': {'country': 'NA', 'sunrise': 1580445130, 'sunset': 1580493185}, 'timezone': 7200, 'id': 3355672, 'name': 'Luderitz', 'cod': 200}\n",
      "{'coord': {'lon': 141.97, 'lat': -38.27}, 'weather': [{'id': 804, 'main': 'Clouds', 'description': 'overcast clouds', 'icon': '04d'}], 'base': 'model', 'main': {'temp': 299.81, 'feels_like': 294.56, 'temp_min': 299.81, 'temp_max': 299.81, 'pressure': 1004, 'humidity': 38, 'sea_level': 1004, 'grnd_level': 1004}, 'wind': {'speed': 8.02, 'deg': 5}, 'clouds': {'all': 95}, 'dt': 1580428577, 'sys': {'country': 'AU', 'sunrise': 1580413357, 'sunset': 1580464082}, 'timezone': 39600, 'id': 2171099, 'name': 'Codrington', 'cod': 200}\n",
      "{'coord': {'lon': 86.18, 'lat': 22.27}, 'weather': [{'id': 800, 'main': 'Clear', 'description': 'clear sky', 'icon': '01n'}], 'base': 'model', 'main': {'temp': 286.55, 'feels_like': 284.42, 'temp_min': 286.55, 'temp_max': 286.55, 'pressure': 1015, 'humidity': 57, 'sea_level': 1015, 'grnd_level': 987}, 'wind': {'speed': 1.45, 'deg': 354}, 'clouds': {'all': 0}, 'dt': 1580428578, 'sys': {'country': 'IN', 'sunrise': 1580432074, 'sunset': 1580472147}, 'timezone': 19800, 'id': 1265830, 'name': 'Rairangpur', 'cod': 200}\n",
      "{'cod': '404', 'message': 'city not found'}\n"
     ]
    }
   ],
   "source": [
    "record_counter = 0\n",
    "set_counter = 0\n",
    "# Starting URL for Weather Map API Call\n",
    "# http://bulk.openweathermap.org/snapshot/{NAME_OF_BULK_FILE}?appid={1459d13c149fd3c675946054a2d9b70e}\n",
    "\n",
    "url = \"https://api.openweathermap.org/data/2.5/weather?q=\" \n",
    "apiKeyNum = \"&appid=1459d13c149fd3c675946054a2d9b70e\"\n",
    "# url = \"http://bulk.openweathermap.org/snapshot/daily_14.json.gz?appid=1459d13c149fd3c675946054a2d9b70e\"\n",
    "#url = \"http://api.openweathermap.org/data/2.5/weather?units=Imperial&APPID=\" + \"weather_api_key\" \n",
    "print('Weather Data: ')\n",
    "print('------------------------')\n",
    "\n",
    "for city in cities:\n",
    "    query_url = url + city + apiKeyNum\n",
    "#     # Get weather data\n",
    "    response = requests.get(query_url).json()\n",
    "    print(response)\n",
    "#     if record_counter < 50:\n",
    "#         record_counter += 1\n",
    "#     else:\n",
    "#         set_counter += 1\n",
    "#         record_counter = 0\n",
    "\n",
    "#     print('Processing record {} of set {} | {}'.format(record_counter, set_counter, city))\n",
    "#     print(url)\n",
    "#     try:\n",
    "#         cloudiness.append(response['clouds']['all'])\n",
    "#         country.append(response['sys']['country'])\n",
    "#         date.append(response['dt'])\n",
    "#         humidity.append(response['main']['humidity'])\n",
    "#         temp.append(response['main']['temp_max'])\n",
    "#         lat.append(response['coord']['lat'])\n",
    "#         lng.append(response['coord']['lon'])\n",
    "#         wind.append(response['wind']['speed'])\n",
    "#         new_cities.append(city)\n",
    "#     except:\n",
    "#         print(\"City not found!\")\n",
    "#         pass\n",
    "    \n",
    "\n",
    "print('-------------------------')"
   ]
  },
  {
   "cell_type": "markdown",
   "metadata": {},
   "source": [
    "### Convert Raw Data to DataFrame\n",
    "* Export the city data into a .csv.\n",
    "* Display the DataFrame"
   ]
  },
  {
   "cell_type": "code",
   "execution_count": null,
   "metadata": {},
   "outputs": [],
   "source": [
    "# create a dictionary for establishing dataframe\n",
    "weather_dict = {\n",
    "    \"City\": name ,\n",
    "    \"Humidity\":humidity,\n",
    "    \"Sea level\":sea_level,\n",
    "    \"Ground Level\":grnd_level,\n",
    "    \"Latitude\":lat,\n",
    "    \"Degrees\":deg,\n",
    "    \"Max Temp\":temp_max,\n",
    "    \"Wind Speed\":wind\n",
    "}"
   ]
  },
  {
   "cell_type": "code",
   "execution_count": null,
   "metadata": {},
   "outputs": [],
   "source": [
    "# dataframe\n",
    "weather_dataframe = pd.DataFrame(weather_dict)"
   ]
  },
  {
   "cell_type": "code",
   "execution_count": null,
   "metadata": {},
   "outputs": [],
   "source": [
    "# show the top of the dataframe\n",
    "weather_dataframe.head()"
   ]
  },
  {
   "cell_type": "markdown",
   "metadata": {},
   "source": [
    "### Plotting the Data\n",
    "* Use proper labeling of the plots using plot titles (including date of analysis) and axes labels.\n",
    "* Save the plotted figures as .pngs."
   ]
  },
  {
   "cell_type": "markdown",
   "metadata": {},
   "source": [
    "#### Latitude vs. Temperature Plot"
   ]
  },
  {
   "cell_type": "code",
   "execution_count": null,
   "metadata": {
    "scrolled": true
   },
   "outputs": [],
   "source": [
    "plt.scatter(weather_dataframe[\"Lat\"],weather_dataframe[\"Max Temp\"],edgecolors=\"black\",facecolors=\"skyblue\")\n",
    "plt.title(\"City Latitude vs. Max Temperature (05/28/19)\")\n",
    "plt.xlabel(\"Latitude\")\n",
    "plt.ylabel(\"Max Temperature (F)\")\n",
    "plt.grid (b=True,which=\"major\",axis=\"both\",linestyle=\"-\",color=\"lightgrey\")\n",
    "plt.savefig(\"Figures/fig1.png\")\n",
    "plt.show()"
   ]
  },
  {
   "cell_type": "markdown",
   "metadata": {},
   "source": [
    "#### Latitude vs. Humidity Plot"
   ]
  },
  {
   "cell_type": "code",
   "execution_count": null,
   "metadata": {},
   "outputs": [],
   "source": [
    "lt.scatter(weather_dataframe[\"Lat\"],weather_dataframe[\"Humidity\"],edgecolors=\"black\",facecolors=\"skyblue\")\n",
    "plt.title(\"City Latitude vs. Humidity (05/28/19)\")\n",
    "plt.xlabel(\"Latitude\")\n",
    "plt.ylabel(\"Humidity (%)\")\n",
    "plt.ylim(15,105)\n",
    "plt.grid (b=True,which=\"major\",axis=\"both\",linestyle=\"-\",color=\"lightgrey\")\n",
    "plt.savefig(\"Figures/fig2.png\")\n",
    "plt.show()"
   ]
  },
  {
   "cell_type": "markdown",
   "metadata": {},
   "source": [
    "#### Latitude vs. Cloudiness Plot"
   ]
  },
  {
   "cell_type": "code",
   "execution_count": null,
   "metadata": {},
   "outputs": [],
   "source": [
    "\n",
    "plt.scatter(weather_dataframe[\"Lat\"],weather_dataframe[\"Cloudiness\"],edgecolors=\"black\",facecolors=\"skyblue\")\n",
    "plt.title(\"City Latitude vs. Cloudiness (08/22/18)\")\n",
    "plt.xlabel(\"Latitude\")\n",
    "plt.ylabel(\"Cloudiness (%)\")\n",
    "plt.grid (b=True,which=\"major\",axis=\"both\",linestyle=\"-\",color=\"lightgrey\")\n",
    "plt.savefig(\"Figures/fig3.png\")\n",
    "plt.show()"
   ]
  },
  {
   "cell_type": "markdown",
   "metadata": {},
   "source": [
    "#### Latitude vs. Wind Speed Plot"
   ]
  },
  {
   "cell_type": "code",
   "execution_count": null,
   "metadata": {},
   "outputs": [],
   "source": [
    "plt.scatter(weather_dataframe[\"Lat\"],weather_dataframe[\"Wind Speed\"],edgecolors=\"black\",facecolors=\"skyblue\")\n",
    "plt.title(\"City Latitude vs. Wind Speed (05/287/19)\")\n",
    "plt.xlabel(\"Latitude\")\n",
    "plt.ylabel(\"Wind Speed (mph)\")\n",
    "plt.ylim(-2,34)\n",
    "plt.grid (b=True,which=\"major\",axis=\"both\",linestyle=\"-\",color=\"lightgrey\")\n",
    "plt.savefig(\"Figures/fig4.png\")\n",
    "plt.show()\n"
   ]
  },
  {
   "cell_type": "markdown",
   "metadata": {},
   "source": [
    "## Linear Regression"
   ]
  },
  {
   "cell_type": "code",
   "execution_count": null,
   "metadata": {},
   "outputs": [],
   "source": [
    "# OPTIONAL: Create a function to create Linear Regression plots\n"
   ]
  },
  {
   "cell_type": "code",
   "execution_count": null,
   "metadata": {},
   "outputs": [],
   "source": [
    "# Create Northern and Southern Hemisphere DataFrames\n"
   ]
  },
  {
   "cell_type": "markdown",
   "metadata": {},
   "source": [
    "####  Northern Hemisphere - Max Temp vs. Latitude Linear Regression"
   ]
  },
  {
   "cell_type": "code",
   "execution_count": null,
   "metadata": {},
   "outputs": [],
   "source": []
  },
  {
   "cell_type": "markdown",
   "metadata": {},
   "source": [
    "####  Southern Hemisphere - Max Temp vs. Latitude Linear Regression"
   ]
  },
  {
   "cell_type": "code",
   "execution_count": null,
   "metadata": {},
   "outputs": [],
   "source": []
  },
  {
   "cell_type": "markdown",
   "metadata": {},
   "source": [
    "####  Northern Hemisphere - Humidity (%) vs. Latitude Linear Regression"
   ]
  },
  {
   "cell_type": "code",
   "execution_count": null,
   "metadata": {},
   "outputs": [],
   "source": []
  },
  {
   "cell_type": "markdown",
   "metadata": {},
   "source": [
    "####  Southern Hemisphere - Humidity (%) vs. Latitude Linear Regression"
   ]
  },
  {
   "cell_type": "code",
   "execution_count": null,
   "metadata": {},
   "outputs": [],
   "source": []
  },
  {
   "cell_type": "markdown",
   "metadata": {},
   "source": [
    "####  Northern Hemisphere - Cloudiness (%) vs. Latitude Linear Regression"
   ]
  },
  {
   "cell_type": "code",
   "execution_count": null,
   "metadata": {},
   "outputs": [],
   "source": []
  },
  {
   "cell_type": "markdown",
   "metadata": {},
   "source": [
    "####  Southern Hemisphere - Cloudiness (%) vs. Latitude Linear Regression"
   ]
  },
  {
   "cell_type": "code",
   "execution_count": null,
   "metadata": {},
   "outputs": [],
   "source": []
  },
  {
   "cell_type": "markdown",
   "metadata": {},
   "source": [
    "####  Northern Hemisphere - Wind Speed (mph) vs. Latitude Linear Regression"
   ]
  },
  {
   "cell_type": "code",
   "execution_count": null,
   "metadata": {},
   "outputs": [],
   "source": []
  },
  {
   "cell_type": "markdown",
   "metadata": {},
   "source": [
    "####  Southern Hemisphere - Wind Speed (mph) vs. Latitude Linear Regression"
   ]
  },
  {
   "cell_type": "code",
   "execution_count": null,
   "metadata": {},
   "outputs": [],
   "source": []
  },
  {
   "cell_type": "code",
   "execution_count": null,
   "metadata": {},
   "outputs": [],
   "source": []
  }
 ],
 "metadata": {
  "anaconda-cloud": {},
  "kernel_info": {
   "name": "python3"
  },
  "kernelspec": {
   "display_name": "Python 3",
   "language": "python",
   "name": "python3"
  },
  "language_info": {
   "codemirror_mode": {
    "name": "ipython",
    "version": 3
   },
   "file_extension": ".py",
   "mimetype": "text/x-python",
   "name": "python",
   "nbconvert_exporter": "python",
   "pygments_lexer": "ipython3",
   "version": "3.7.3"
  },
  "latex_envs": {
   "LaTeX_envs_menu_present": true,
   "autoclose": false,
   "autocomplete": true,
   "bibliofile": "biblio.bib",
   "cite_by": "apalike",
   "current_citInitial": 1,
   "eqLabelWithNumbers": true,
   "eqNumInitial": 1,
   "hotkeys": {
    "equation": "Ctrl-E",
    "itemize": "Ctrl-I"
   },
   "labels_anchors": false,
   "latex_user_defs": false,
   "report_style_numbering": false,
   "user_envs_cfg": false
  },
  "nteract": {
   "version": "0.12.3"
  }
 },
 "nbformat": 4,
 "nbformat_minor": 2
}
